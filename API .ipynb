{
 "cells": [
  {
   "cell_type": "code",
   "execution_count": 3,
   "metadata": {},
   "outputs": [
    {
     "name": "stdout",
     "output_type": "stream",
     "text": [
      "404\n"
     ]
    }
   ],
   "source": [
    "import requests\n",
    "response = requests.get('http://api.open-notify.org/iss-now.json.')\n",
    "print(response.status_code)"
   ]
  },
  {
   "cell_type": "code",
   "execution_count": 28,
   "metadata": {},
   "outputs": [
    {
     "name": "stdout",
     "output_type": "stream",
     "text": [
      "application/json\n"
     ]
    }
   ],
   "source": [
    "import requests\n",
    "response = requests.get(' https://codingninjas.in/api/v3/events')\n",
    "print(response.headers['Content-Type'])"
   ]
  },
  {
   "cell_type": "markdown",
   "metadata": {},
   "source": [
    "# Hound sub breeds"
   ]
  },
  {
   "cell_type": "code",
   "execution_count": 29,
   "metadata": {},
   "outputs": [
    {
     "name": "stdout",
     "output_type": "stream",
     "text": [
      "afghan\n",
      "basset\n",
      "blood\n",
      "english\n",
      "ibizan\n",
      "plott\n",
      "walker\n"
     ]
    }
   ],
   "source": [
    "import json\n",
    "p = requests.get('https://dog.ceo/api/breeds/list/all')\n",
    "python_data = p.json()\n",
    "#print(python_data)\n",
    "#print(type(python_data))\n",
    "for i in python_data['message']['hound']:\n",
    "    print(i)"
   ]
  },
  {
   "cell_type": "markdown",
   "metadata": {},
   "source": [
    "# poodle breed count"
   ]
  },
  {
   "cell_type": "code",
   "execution_count": 2,
   "metadata": {},
   "outputs": [
    {
     "name": "stdout",
     "output_type": "stream",
     "text": [
      "3\n"
     ]
    }
   ],
   "source": [
    "import json\n",
    "import requests\n",
    "p = requests.get('https://dog.ceo/api/breeds/list/all')\n",
    "python_data = p.json()\n",
    "#print(python_data)\n",
    "poodle = python_data['message']['poodle']\n",
    "print(len(poodle))"
   ]
  },
  {
   "cell_type": "markdown",
   "metadata": {},
   "source": [
    "# Online course"
   ]
  },
  {
   "cell_type": "code",
   "execution_count": 63,
   "metadata": {},
   "outputs": [
    {
     "name": "stdout",
     "output_type": "stream",
     "text": [
      "Premium Competitive Programming Course\n",
      "Premium Data structures and Algorithms [C++/Java/Python]\n",
      "Premium Data Science Course\n",
      "C++ Foundation with Data Structures\n",
      "Premium Full Stack Web Development\n",
      "Premium Android App Development\n",
      "Machine Learning & Deep Learning Course\n",
      "Premium Machine Learning Course\n",
      "Ninja Competitive Programmer Track\n",
      "Advanced  Front-End Web Development with React\n",
      "Full Stack Web Development\n",
      "Ninja Android Developer Career Track \n",
      "JAVA Foundation with Data Structures\n",
      "Data Science & Machine Learning Complete\n",
      "Ninja  Web Developer Career Track - NodeJS & ReactJs\n",
      "Interview Preparation Course\n",
      "Competitive Programming Course\n",
      "Ninja  Web Developer Career Track - NodeJS\n",
      "Ninja Data Scientist Career Track\n",
      "Python Foundation with Data Structures\n",
      "Android Development with Kotlin\n",
      "Aptitude Preparation Course\n",
      "Ninja Machine Learning Engineer Career Track\n"
     ]
    }
   ],
   "source": [
    "import json\n",
    "import requests\n",
    "response = requests.get('https://api.codingninjas.com/api/v3/courses')\n",
    "python_data = response.json()\n",
    "#print(python_data)\n",
    "online_course = python_data['data']['courses']\n",
    "for i in online_course:\n",
    "    print(i['name'])"
   ]
  },
  {
   "cell_type": "markdown",
   "metadata": {},
   "source": [
    "# Workshop events"
   ]
  },
  {
   "cell_type": "code",
   "execution_count": 61,
   "metadata": {},
   "outputs": [
    {
     "name": "stdout",
     "output_type": "stream",
     "text": [
      "Ninja Prestige is a series of events where top coders across the country get a chance to test out their mettle against the best of the best.\n"
     ]
    }
   ],
   "source": [
    "import json\n",
    "import requests\n",
    "response = requests.get('https://api.codingninjas.com/api/v3/events?event_category=ALL_EVENTS&event_sub_category=All%20Time%20Favorites&tag_list=&offset=0&_ga=2.125879567.30810978.1611051825-1763704396.1609813851')\n",
    "python_data = response.json()\n",
    "#print(python_data)\n",
    "event = python_data['data']['events'][0]\n",
    "print(event['short_desc'])"
   ]
  },
  {
   "cell_type": "code",
   "execution_count": 11,
   "metadata": {},
   "outputs": [
    {
     "name": "stdout",
     "output_type": "stream",
     "text": [
      "Machine Learning\n"
     ]
    }
   ],
   "source": [
    "# TITLE OF COURSE\n",
    "import json\n",
    "a = requests.get('http://api.codingninjas.com/api/v3/courses')\n",
    "python_data = a.json()\n",
    "a = python_data['data']['courses']\n",
    "for i in a:\n",
    "    if i['id'] == 19:\n",
    "        print(i['title'])"
   ]
  },
  {
   "cell_type": "markdown",
   "metadata": {},
   "source": [
    "# Total number of cities"
   ]
  },
  {
   "cell_type": "code",
   "execution_count": 6,
   "metadata": {},
   "outputs": [
    {
     "name": "stdout",
     "output_type": "stream",
     "text": [
      "69\n"
     ]
    }
   ],
   "source": [
    "a = requests.get('https://api.openaq.org/v1/cities/', params = {\"country\" : \"AU\"})\n",
    "#print(a.url)\n",
    "data = a.json()\n",
    "all_cities = data['results']\n",
    "a = []\n",
    "for i in all_cities:\n",
    "    a.append(i['city'])\n",
    "#print(len(set(a)))\n",
    "print(len(a))"
   ]
  },
  {
   "cell_type": "markdown",
   "metadata": {},
   "source": [
    "# Cities from BE"
   ]
  },
  {
   "cell_type": "code",
   "execution_count": 31,
   "metadata": {},
   "outputs": [
    {
     "name": "stdout",
     "output_type": "stream",
     "text": [
      "Antwerpen\n",
      "Brabant wallon\n",
      "Brussels\n",
      "Brussels-Capital Region\n",
      "Flanders\n"
     ]
    }
   ],
   "source": [
    "a = requests.get('https://api.openaq.org/v1/cities', params = {\"country\" : \"BE\",\"limit\" : 5, \"order_by\": \"city\"})\n",
    "python_data = a.json()\n",
    "cities = python_data['results']\n",
    "a = []\n",
    "for row in cities:\n",
    "    a.append(row['city'])\n",
    "#print(a)\n",
    "for i in a:\n",
    "    print(i)"
   ]
  },
  {
   "cell_type": "code",
   "execution_count": 16,
   "metadata": {},
   "outputs": [
    {
     "name": "stdout",
     "output_type": "stream",
     "text": [
      "https://www.metaweather.com/api/location/search/?query=USA\n",
      "200\n"
     ]
    }
   ],
   "source": [
    "a = requests.get('https://www.metaweather.com/api/location/search/', params = {\"query\" : \"USA\"})\n",
    "print(a.url)\n",
    "print(a.status_code)"
   ]
  },
  {
   "cell_type": "markdown",
   "metadata": {},
   "source": [
    "# Github license"
   ]
  },
  {
   "cell_type": "code",
   "execution_count": 37,
   "metadata": {},
   "outputs": [
    {
     "name": "stdout",
     "output_type": "stream",
     "text": [
      "Apache License 2.0\n"
     ]
    }
   ],
   "source": [
    "import requests as rq\n",
    "import json\n",
    "response = rq.get('https://api.github.com/repos/google/go-cloud')\n",
    "python_data=json.loads(response.text)\n",
    "print(python_data['license']['name'])"
   ]
  },
  {
   "cell_type": "markdown",
   "metadata": {},
   "source": [
    "# List of all topics"
   ]
  },
  {
   "cell_type": "code",
   "execution_count": 38,
   "metadata": {},
   "outputs": [
    {
     "name": "stdout",
     "output_type": "stream",
     "text": [
      "fuzzing\n",
      "security\n",
      "stability\n",
      "vulnerabilities\n"
     ]
    }
   ],
   "source": [
    "import requests as rq\n",
    "import json\n",
    "response = rq.get('https://api.github.com/repos/google/clusterfuzz/topics',headers={'Accept':'application/vnd.github.mercy-preview+json'})\n",
    "python_data=json.loads(response.text)\n",
    "l= python_data['names']\n",
    "for s in l:\n",
    "    print(s)"
   ]
  },
  {
   "cell_type": "markdown",
   "metadata": {},
   "source": [
    "# Languages"
   ]
  },
  {
   "cell_type": "code",
   "execution_count": 39,
   "metadata": {},
   "outputs": [
    {
     "name": "stdout",
     "output_type": "stream",
     "text": [
      "Swift\n",
      "HTML\n",
      "Python\n",
      "Ruby\n",
      "Shell\n"
     ]
    }
   ],
   "source": [
    "import requests as rq\n",
    "import json\n",
    "response = rq.get('https://api.github.com/repos/google/science-journal-ios/languages',headers={'Accept':'application/vnd.github.mercy-preview+json'})\n",
    "python_data=json.loads(response.text)\n",
    "d = {}\n",
    "d = python_data\n",
    "for k in d:\n",
    "    print(k)"
   ]
  },
  {
   "cell_type": "markdown",
   "metadata": {},
   "source": [
    "# github organisation member"
   ]
  },
  {
   "cell_type": "code",
   "execution_count": 41,
   "metadata": {},
   "outputs": [
    {
     "name": "stdout",
     "output_type": "stream",
     "text": [
      "aakash-cr7\n",
      "dakshkhetan\n",
      "ManishaKhattar\n",
      "namangupta01\n",
      "nidhiagarwal\n",
      "rohanraarora\n"
     ]
    }
   ],
   "source": [
    "import requests as rq\n",
    "import json \n",
    "h = {'Accept' :'application/vnd.github.baptiste-preview+json' }\n",
    "response = rq.get('https://api.github.com/orgs/CodingNinjasCodes/members',headers=h)\n",
    "members = response.json()\n",
    "for m in members:\n",
    "    print(m['login'])"
   ]
  },
  {
   "cell_type": "markdown",
   "metadata": {},
   "source": [
    "# repo health"
   ]
  },
  {
   "cell_type": "code",
   "execution_count": 43,
   "metadata": {},
   "outputs": [
    {
     "name": "stdout",
     "output_type": "stream",
     "text": [
      "28\n"
     ]
    }
   ],
   "source": [
    "import requests as rq\n",
    "import json\n",
    "\n",
    "h = {'Accept' : 'application/vnd.github.black-panther-preview+json'}\n",
    "response = rq.get('https://api.github.com/repos/CodingNinjasCodes/SmoothScrollJs/community/profile',headers=h)\n",
    "prof = response.json()     \n",
    "print(prof['health_percentage'])"
   ]
  },
  {
   "cell_type": "markdown",
   "metadata": {},
   "source": [
    "# Github all repos"
   ]
  },
  {
   "cell_type": "code",
   "execution_count": 49,
   "metadata": {},
   "outputs": [
    {
     "name": "stdout",
     "output_type": "stream",
     "text": [
      "x-mario\n",
      "phimpme-android\n",
      "phimpme-drupal\n",
      "xmario_buildscript\n",
      "pslab-case\n",
      "meilix-systemlock\n",
      "fossasia10-drupal\n",
      "fossasia11-drupal\n",
      "blog.fossasia.org\n",
      "2010.fossasia.org\n",
      "2014.fossasia.org\n",
      "meilix\n",
      "phimpme-wordpress\n",
      "2015.fossasia.org\n",
      "badge-magic-android\n",
      "api.fossasia.net\n",
      "directory.api.fossasia.net\n",
      "common.api.fossasia.net\n",
      "cmap.api.fossasia.net\n",
      "feed.api.freifunk.net\n",
      "feed.api.fossasia.net\n",
      "fossasia-communities\n",
      "sg18.sciencehack.asia\n",
      "gci14.fossasia.org\n",
      "fossasia-nodemailer\n",
      "2011.fossasia.org\n",
      "2012.fossasia.org\n",
      "labs.fossasia.org\n",
      "fossasia.net\n",
      "foss.vn\n",
      "libregraphics.asia\n",
      "perspektive89.com\n",
      "susi_smart_box\n",
      "hotelxoai.com\n",
      "yaydoc-artwork\n",
      "fossasia-companion-android\n",
      "loklak_webclient\n",
      "circle-knitting\n",
      "open-event-attendee-android\n",
      "2018.fossasia.org\n",
      "open-event\n",
      "open-event-droidgen\n",
      "open-event-wsgen\n",
      "open-event-server\n",
      "knitweb\n",
      "knitpat\n",
      "knitlib\n",
      "pslab-expeyes\n",
      "timeline.api.fossasia.net\n",
      "2016.fossasia.org\n",
      "fossasia.org\n",
      "pslab-sister\n",
      "pslab-test-jig\n",
      "knitserver\n",
      "sciencehack.asia\n",
      "loklak_wok_android\n",
      "gci15.fossasia.org\n",
      "gci17.fossasia.org\n",
      "flappy-svg\n",
      "loklak-webtweets\n",
      "loklak_tweetheatmap\n",
      "unesco.sciencehack.asia\n",
      "neurolab-hardware\n",
      "loklak_movietweets\n",
      "loklak_heatmap\n",
      "fossasia-webfeeds\n",
      "fossasia.github.io\n",
      "jugaadfest.com\n",
      "open-event-scraper\n",
      "open-event-attendee-ios\n",
      "fossasia-artwork\n",
      "2017.fossasia.org\n",
      "engelsystem\n",
      "knittingpattern\n",
      "CommonsNet\n",
      "wp-tweets-widget\n",
      "wp-recent-tweet\n",
      "pslab-python\n",
      "pslab-desktop\n",
      "wp-easy-twitter-plugin\n",
      "wp-tweet-feed-plugin\n",
      "loklak_walls\n",
      "wp-accesspress-twitter-feed\n",
      "wp-rotatingtweets\n",
      "wp-twitter-feeds\n",
      "coc.fossasia.org\n",
      "pslab-grove-shield\n",
      "badgemagic.fossasia.org\n",
      "2021.fossasia.org\n",
      "2020.fossasia.org\n",
      "kniteditor\n",
      "badge-magic-ios\n",
      "wp-juiz-last-tweet-widget\n",
      "wp-twidget\n",
      "wp-dev-buddy\n",
      "loklak_tweetsearch_android\n",
      "susi.ai\n",
      "AYABInterface\n",
      "susi_slackbot\n",
      "sciencehack.in\n",
      "loklak_wp_plugins\n",
      "2018.codeheat.org\n",
      "Xoai-Artwork\n",
      "lxde-artwork\n",
      "lubuntu-artwork\n",
      "knitting.fossasia.org\n",
      "KikiAuth\n",
      "lxlauncher-vala\n",
      "x-mario-center\n",
      "events.fossasia.org\n",
      "open-event-organizer-android\n",
      "2013.fossasia.org\n",
      "gci16.fossasia.org\n",
      "susper-backbone\n",
      "loklak_heatmapper\n",
      "loklak_telegrambot\n",
      "susi_server\n",
      "codeheat.org\n",
      "loklak_search\n",
      "susi_fbbot\n",
      "susi_telegrambot\n",
      "susi_android\n",
      "calendar.fossasia.org\n",
      "sciencehack-artwork\n",
      "susi_kikbot\n",
      "susi_artwork\n",
      "dev.susi.ai\n",
      "fossbridge.com\n",
      "searss\n",
      "tofsims\n",
      "mbdyn-gci\n",
      "susi_tweetbot\n",
      "query-server\n",
      "green-park-2\n",
      "susi_wechatbot\n",
      "event-collect\n",
      "loklak_EmojiTracker\n",
      "geolocation\n",
      "susi_desktop\n",
      "support.eventyay.com\n",
      "susper.com\n",
      "visdom\n",
      "susi_iOS\n",
      "pslab-firmware\n",
      "pslab-hardware\n",
      "pslab-android\n",
      "star-me\n",
      "jobs.fossasia.org\n",
      "susi_api_wrapper\n",
      "open-event-frontend\n",
      "susi_viberbot\n",
      "susi_linux\n",
      "asksusi\n",
      "admin.susi.ai\n",
      "open-event-theme\n",
      "susi_skill_data\n",
      "susi_skill_cms\n",
      "yaydoc\n",
      "susi_linebot\n",
      "connfa-android\n",
      "susi_skypebot\n",
      "loklak_scraper_js\n",
      "arch-travis\n",
      "mew\n",
      "loklak_publisher\n",
      "meilix-generator\n",
      "badgeyay\n",
      "accounts.susi.ai\n",
      "susi_gitterbot\n",
      "giggity\n",
      "giraffe\n",
      "MMM-SUSI-AI\n",
      "susi_alexa_skill\n",
      "susi_cortana_skill\n",
      "sphinx_fossasia_theme\n",
      "mvisc\n",
      "susi_gassistantbot\n",
      "loklak-timeline-plugin\n",
      "pslab-webapp\n",
      "susi_hangoutbot\n",
      "sphinx_susiai_theme\n",
      "phimpme-artwork\n",
      "pslab-artwork\n",
      "2016.codeheat.org\n",
      "2017.codeheat.org\n",
      "susi_chromebot\n",
      "susi_firefoxbot\n",
      "opendesign.asia\n",
      "sciencetech.asia\n",
      "sphinx_phimpme_theme\n",
      "scrum_helper\n",
      "open-event-legacy\n",
      "meilix-artwork\n",
      "pslab-bootloader\n",
      "jugaadfest-artwork\n",
      "neurolab-android\n",
      "techcul.org\n",
      "neurolab-firmware\n",
      "open-event-organizer-ios\n",
      "pslab-documentation\n",
      "publiccode.asia\n",
      "labyrinth\n",
      "Flask_Simple_Form\n",
      "Ember_Simple_Calculator\n",
      "2019.fossasia.org\n",
      "Connect-Me\n",
      "dmca\n",
      "meilix.org\n",
      "flask-rest-jsonapi\n",
      "susi_twitchbot\n",
      "susi_zulipbot\n",
      "snowboy\n",
      "gci18.fossasia.org\n",
      "pi-gen\n",
      "jp.pslab.io\n",
      "in.pslab.io\n",
      "fossasia-jekyll-theme\n",
      "fossasia.sg\n",
      "pslab-iOS\n",
      "summit.fossasia.org\n",
      "photos.fossasia.org\n",
      "susi_installer\n",
      "susi_python\n",
      "susi_speech_server\n",
      "FOSSASIA-Office\n",
      "2019.codeheat.org\n",
      "fossasia-presentations\n",
      "orgmanager\n",
      "hyderabad.jugaadfest.com\n",
      "delhi.jugaadfest.com\n",
      "speech_recognition\n",
      "led-name-badge-ls32\n",
      "Event-Safety-Measures\n",
      "libsigrokdecode\n",
      "libsigrok\n",
      "eventyay.de\n"
     ]
    }
   ],
   "source": [
    "import requests as rq\n",
    "import json\n",
    "l = []\n",
    "for i in range(1,5):\n",
    "    h = {'Accept' :'application/vnd.github.baptiste-preview+json','type' : 'all'}\n",
    "    response = rq.get('https://api.github.com/orgs/fossasia/repos?type=public&per_page=100&page='+str(i))\n",
    "    if response.text is not None and response.text != '':\n",
    "        repos = response.json()\n",
    "        for rep in repos:\n",
    "            l.append(rep['name'])\n",
    "    else:\n",
    "        break\n",
    "\n",
    "#print(len(l))\n",
    "for i in l:\n",
    "    print(i)\n"
   ]
  },
  {
   "cell_type": "markdown",
   "metadata": {},
   "source": [
    "# repo contributors"
   ]
  },
  {
   "cell_type": "code",
   "execution_count": 53,
   "metadata": {},
   "outputs": [
    {
     "name": "stdout",
     "output_type": "stream",
     "text": [
      "Sherawat42 15\n",
      "tushartuteja 5\n",
      "Rawal27 13\n"
     ]
    }
   ],
   "source": [
    "import requests as rq\n",
    "import json\n",
    "\n",
    "\n",
    "\n",
    "h = {'Accept' :'application/vnd.github.baptiste-preview+json' }\n",
    "response = rq.get('https://api.github.com/repos/CodingNinjasCodes/JSNotes/stats/contributors',headers=h)\n",
    "members = response.json()\n",
    "for t in members:\n",
    "    print(t['author']['login'],t['total'])"
   ]
  },
  {
   "cell_type": "code",
   "execution_count": null,
   "metadata": {},
   "outputs": [],
   "source": []
  }
 ],
 "metadata": {
  "kernelspec": {
   "display_name": "Python 3",
   "language": "python",
   "name": "python3"
  },
  "language_info": {
   "codemirror_mode": {
    "name": "ipython",
    "version": 3
   },
   "file_extension": ".py",
   "mimetype": "text/x-python",
   "name": "python",
   "nbconvert_exporter": "python",
   "pygments_lexer": "ipython3",
   "version": "3.7.4"
  }
 },
 "nbformat": 4,
 "nbformat_minor": 2
}
